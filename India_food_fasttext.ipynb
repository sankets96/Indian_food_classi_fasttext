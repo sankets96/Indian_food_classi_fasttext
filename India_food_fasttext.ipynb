{
  "cells": [
    {
      "cell_type": "code",
      "execution_count": 11,
      "metadata": {
        "id": "ezdH2Uiii3Nv"
      },
      "outputs": [],
      "source": [
        "import numpy as np\n",
        "import pandas as pd\n",
        "import sklearn\n",
        "import spacy"
      ]
    },
    {
      "cell_type": "code",
      "execution_count": 12,
      "metadata": {
        "id": "K9hc6I2mjWzl"
      },
      "outputs": [],
      "source": [
        "import csv"
      ]
    },
    {
      "cell_type": "code",
      "execution_count": 13,
      "metadata": {
        "id": "9teGokMsjcJP",
        "colab": {
          "base_uri": "https://localhost:8080/"
        },
        "outputId": "fa6b395e-84a3-4c7e-c1ef-8b5cd32a2509"
      },
      "outputs": [
        {
          "output_type": "stream",
          "name": "stderr",
          "text": [
            "/usr/local/lib/python3.8/dist-packages/IPython/core/interactiveshell.py:3326: FutureWarning: The error_bad_lines argument has been deprecated and will be removed in a future version.\n",
            "\n",
            "\n",
            "  exec(code_obj, self.user_global_ns, self.user_ns)\n"
          ]
        }
      ],
      "source": [
        "df = pd.read_csv('/content/Cleaned_Indian_Food_Dataset.csv',error_bad_lines=False)"
      ]
    },
    {
      "cell_type": "code",
      "source": [
        "df.head(5)"
      ],
      "metadata": {
        "colab": {
          "base_uri": "https://localhost:8080/",
          "height": 461
        },
        "id": "q99VtxcOugGD",
        "outputId": "99080482-6e5d-440d-f403-ddf7fb0dfd4e"
      },
      "execution_count": 14,
      "outputs": [
        {
          "output_type": "execute_result",
          "data": {
            "text/plain": [
              "                                TranslatedRecipeName  \\\n",
              "0                               Masala Karela Recipe   \n",
              "1                         Spicy Tomato Rice (Recipe)   \n",
              "2  Ragi Semiya Upma Recipe - Ragi Millet Vermicel...   \n",
              "3  Gongura Chicken Curry Recipe - Andhra Style Go...   \n",
              "4  Andhra Style Alam Pachadi Recipe - Adrak Chutn...   \n",
              "\n",
              "                               TranslatedIngredients  TotalTimeInMins  \\\n",
              "0  1 tablespoon Red Chilli powder,3 tablespoon Gr...               45   \n",
              "1   2 teaspoon cashew - or peanuts, 1/2 Teaspoon ...               15   \n",
              "2  1 Onion - sliced,1 teaspoon White Urad Dal (Sp...               50   \n",
              "3  1/2 teaspoon Turmeric powder (Haldi),1 tablesp...               45   \n",
              "4   oil - as per use, 1 tablespoon coriander seed...               30   \n",
              "\n",
              "                Cuisine                             TranslatedInstructions  \\\n",
              "0                Indian  To begin making the Masala Karela Recipe,de-se...   \n",
              "1  South Indian Recipes  To make tomato puliogere, first cut the tomato...   \n",
              "2  South Indian Recipes  To begin making the Ragi Vermicelli Recipe, fi...   \n",
              "3                Andhra  To begin making Gongura Chicken Curry Recipe f...   \n",
              "4                Andhra  To make Andhra Style Alam Pachadi, first heat ...   \n",
              "\n",
              "                                                 URL  \\\n",
              "0  https://www.archanaskitchen.com/masala-karela-...   \n",
              "1  https://www.archanaskitchen.com/spicy-tomato-r...   \n",
              "2  https://www.archanaskitchen.com/ragi-vermicell...   \n",
              "3  https://www.archanaskitchen.com/gongura-chicke...   \n",
              "4  https://www.archanaskitchen.com/andhra-style-a...   \n",
              "\n",
              "                                 Cleaned-Ingredients  \\\n",
              "0  salt,amchur (dry mango powder),karela (bitter ...   \n",
              "1  tomato,salt,chickpea lentils,green chilli,rice...   \n",
              "2  salt,rice vermicelli noodles (thin),asafoetida...   \n",
              "3  tomato,salt,ginger,sorrel leaves (gongura),fen...   \n",
              "4  tomato,salt,ginger,red chillies,curry,asafoeti...   \n",
              "\n",
              "                                           image-url  Ingredient-count  \n",
              "0  https://www.archanaskitchen.com/images/archana...                10  \n",
              "1  https://www.archanaskitchen.com/images/archana...                12  \n",
              "2  https://www.archanaskitchen.com/images/archana...                12  \n",
              "3  https://www.archanaskitchen.com/images/archana...                15  \n",
              "4  https://www.archanaskitchen.com/images/archana...                12  "
            ],
            "text/html": [
              "\n",
              "  <div id=\"df-ccc328b3-9448-466d-a994-3e9017293389\">\n",
              "    <div class=\"colab-df-container\">\n",
              "      <div>\n",
              "<style scoped>\n",
              "    .dataframe tbody tr th:only-of-type {\n",
              "        vertical-align: middle;\n",
              "    }\n",
              "\n",
              "    .dataframe tbody tr th {\n",
              "        vertical-align: top;\n",
              "    }\n",
              "\n",
              "    .dataframe thead th {\n",
              "        text-align: right;\n",
              "    }\n",
              "</style>\n",
              "<table border=\"1\" class=\"dataframe\">\n",
              "  <thead>\n",
              "    <tr style=\"text-align: right;\">\n",
              "      <th></th>\n",
              "      <th>TranslatedRecipeName</th>\n",
              "      <th>TranslatedIngredients</th>\n",
              "      <th>TotalTimeInMins</th>\n",
              "      <th>Cuisine</th>\n",
              "      <th>TranslatedInstructions</th>\n",
              "      <th>URL</th>\n",
              "      <th>Cleaned-Ingredients</th>\n",
              "      <th>image-url</th>\n",
              "      <th>Ingredient-count</th>\n",
              "    </tr>\n",
              "  </thead>\n",
              "  <tbody>\n",
              "    <tr>\n",
              "      <th>0</th>\n",
              "      <td>Masala Karela Recipe</td>\n",
              "      <td>1 tablespoon Red Chilli powder,3 tablespoon Gr...</td>\n",
              "      <td>45</td>\n",
              "      <td>Indian</td>\n",
              "      <td>To begin making the Masala Karela Recipe,de-se...</td>\n",
              "      <td>https://www.archanaskitchen.com/masala-karela-...</td>\n",
              "      <td>salt,amchur (dry mango powder),karela (bitter ...</td>\n",
              "      <td>https://www.archanaskitchen.com/images/archana...</td>\n",
              "      <td>10</td>\n",
              "    </tr>\n",
              "    <tr>\n",
              "      <th>1</th>\n",
              "      <td>Spicy Tomato Rice (Recipe)</td>\n",
              "      <td>2 teaspoon cashew - or peanuts, 1/2 Teaspoon ...</td>\n",
              "      <td>15</td>\n",
              "      <td>South Indian Recipes</td>\n",
              "      <td>To make tomato puliogere, first cut the tomato...</td>\n",
              "      <td>https://www.archanaskitchen.com/spicy-tomato-r...</td>\n",
              "      <td>tomato,salt,chickpea lentils,green chilli,rice...</td>\n",
              "      <td>https://www.archanaskitchen.com/images/archana...</td>\n",
              "      <td>12</td>\n",
              "    </tr>\n",
              "    <tr>\n",
              "      <th>2</th>\n",
              "      <td>Ragi Semiya Upma Recipe - Ragi Millet Vermicel...</td>\n",
              "      <td>1 Onion - sliced,1 teaspoon White Urad Dal (Sp...</td>\n",
              "      <td>50</td>\n",
              "      <td>South Indian Recipes</td>\n",
              "      <td>To begin making the Ragi Vermicelli Recipe, fi...</td>\n",
              "      <td>https://www.archanaskitchen.com/ragi-vermicell...</td>\n",
              "      <td>salt,rice vermicelli noodles (thin),asafoetida...</td>\n",
              "      <td>https://www.archanaskitchen.com/images/archana...</td>\n",
              "      <td>12</td>\n",
              "    </tr>\n",
              "    <tr>\n",
              "      <th>3</th>\n",
              "      <td>Gongura Chicken Curry Recipe - Andhra Style Go...</td>\n",
              "      <td>1/2 teaspoon Turmeric powder (Haldi),1 tablesp...</td>\n",
              "      <td>45</td>\n",
              "      <td>Andhra</td>\n",
              "      <td>To begin making Gongura Chicken Curry Recipe f...</td>\n",
              "      <td>https://www.archanaskitchen.com/gongura-chicke...</td>\n",
              "      <td>tomato,salt,ginger,sorrel leaves (gongura),fen...</td>\n",
              "      <td>https://www.archanaskitchen.com/images/archana...</td>\n",
              "      <td>15</td>\n",
              "    </tr>\n",
              "    <tr>\n",
              "      <th>4</th>\n",
              "      <td>Andhra Style Alam Pachadi Recipe - Adrak Chutn...</td>\n",
              "      <td>oil - as per use, 1 tablespoon coriander seed...</td>\n",
              "      <td>30</td>\n",
              "      <td>Andhra</td>\n",
              "      <td>To make Andhra Style Alam Pachadi, first heat ...</td>\n",
              "      <td>https://www.archanaskitchen.com/andhra-style-a...</td>\n",
              "      <td>tomato,salt,ginger,red chillies,curry,asafoeti...</td>\n",
              "      <td>https://www.archanaskitchen.com/images/archana...</td>\n",
              "      <td>12</td>\n",
              "    </tr>\n",
              "  </tbody>\n",
              "</table>\n",
              "</div>\n",
              "      <button class=\"colab-df-convert\" onclick=\"convertToInteractive('df-ccc328b3-9448-466d-a994-3e9017293389')\"\n",
              "              title=\"Convert this dataframe to an interactive table.\"\n",
              "              style=\"display:none;\">\n",
              "        \n",
              "  <svg xmlns=\"http://www.w3.org/2000/svg\" height=\"24px\"viewBox=\"0 0 24 24\"\n",
              "       width=\"24px\">\n",
              "    <path d=\"M0 0h24v24H0V0z\" fill=\"none\"/>\n",
              "    <path d=\"M18.56 5.44l.94 2.06.94-2.06 2.06-.94-2.06-.94-.94-2.06-.94 2.06-2.06.94zm-11 1L8.5 8.5l.94-2.06 2.06-.94-2.06-.94L8.5 2.5l-.94 2.06-2.06.94zm10 10l.94 2.06.94-2.06 2.06-.94-2.06-.94-.94-2.06-.94 2.06-2.06.94z\"/><path d=\"M17.41 7.96l-1.37-1.37c-.4-.4-.92-.59-1.43-.59-.52 0-1.04.2-1.43.59L10.3 9.45l-7.72 7.72c-.78.78-.78 2.05 0 2.83L4 21.41c.39.39.9.59 1.41.59.51 0 1.02-.2 1.41-.59l7.78-7.78 2.81-2.81c.8-.78.8-2.07 0-2.86zM5.41 20L4 18.59l7.72-7.72 1.47 1.35L5.41 20z\"/>\n",
              "  </svg>\n",
              "      </button>\n",
              "      \n",
              "  <style>\n",
              "    .colab-df-container {\n",
              "      display:flex;\n",
              "      flex-wrap:wrap;\n",
              "      gap: 12px;\n",
              "    }\n",
              "\n",
              "    .colab-df-convert {\n",
              "      background-color: #E8F0FE;\n",
              "      border: none;\n",
              "      border-radius: 50%;\n",
              "      cursor: pointer;\n",
              "      display: none;\n",
              "      fill: #1967D2;\n",
              "      height: 32px;\n",
              "      padding: 0 0 0 0;\n",
              "      width: 32px;\n",
              "    }\n",
              "\n",
              "    .colab-df-convert:hover {\n",
              "      background-color: #E2EBFA;\n",
              "      box-shadow: 0px 1px 2px rgba(60, 64, 67, 0.3), 0px 1px 3px 1px rgba(60, 64, 67, 0.15);\n",
              "      fill: #174EA6;\n",
              "    }\n",
              "\n",
              "    [theme=dark] .colab-df-convert {\n",
              "      background-color: #3B4455;\n",
              "      fill: #D2E3FC;\n",
              "    }\n",
              "\n",
              "    [theme=dark] .colab-df-convert:hover {\n",
              "      background-color: #434B5C;\n",
              "      box-shadow: 0px 1px 3px 1px rgba(0, 0, 0, 0.15);\n",
              "      filter: drop-shadow(0px 1px 2px rgba(0, 0, 0, 0.3));\n",
              "      fill: #FFFFFF;\n",
              "    }\n",
              "  </style>\n",
              "\n",
              "      <script>\n",
              "        const buttonEl =\n",
              "          document.querySelector('#df-ccc328b3-9448-466d-a994-3e9017293389 button.colab-df-convert');\n",
              "        buttonEl.style.display =\n",
              "          google.colab.kernel.accessAllowed ? 'block' : 'none';\n",
              "\n",
              "        async function convertToInteractive(key) {\n",
              "          const element = document.querySelector('#df-ccc328b3-9448-466d-a994-3e9017293389');\n",
              "          const dataTable =\n",
              "            await google.colab.kernel.invokeFunction('convertToInteractive',\n",
              "                                                     [key], {});\n",
              "          if (!dataTable) return;\n",
              "\n",
              "          const docLinkHtml = 'Like what you see? Visit the ' +\n",
              "            '<a target=\"_blank\" href=https://colab.research.google.com/notebooks/data_table.ipynb>data table notebook</a>'\n",
              "            + ' to learn more about interactive tables.';\n",
              "          element.innerHTML = '';\n",
              "          dataTable['output_type'] = 'display_data';\n",
              "          await google.colab.output.renderOutput(dataTable, element);\n",
              "          const docLink = document.createElement('div');\n",
              "          docLink.innerHTML = docLinkHtml;\n",
              "          element.appendChild(docLink);\n",
              "        }\n",
              "      </script>\n",
              "    </div>\n",
              "  </div>\n",
              "  "
            ]
          },
          "metadata": {},
          "execution_count": 14
        }
      ]
    },
    {
      "cell_type": "code",
      "source": [
        "df.shape"
      ],
      "metadata": {
        "colab": {
          "base_uri": "https://localhost:8080/"
        },
        "id": "LxtKc1JSu8ZC",
        "outputId": "7617b916-5065-4288-bf1f-0f622954985c"
      },
      "execution_count": 15,
      "outputs": [
        {
          "output_type": "execute_result",
          "data": {
            "text/plain": [
              "(5938, 9)"
            ]
          },
          "metadata": {},
          "execution_count": 15
        }
      ]
    },
    {
      "cell_type": "code",
      "source": [
        "df.info"
      ],
      "metadata": {
        "colab": {
          "base_uri": "https://localhost:8080/"
        },
        "id": "71ubRYayu9Uo",
        "outputId": "231a3e6e-a515-4925-df1e-6301441abaf1"
      },
      "execution_count": 16,
      "outputs": [
        {
          "output_type": "execute_result",
          "data": {
            "text/plain": [
              "<bound method DataFrame.info of                                    TranslatedRecipeName  \\\n",
              "0                                  Masala Karela Recipe   \n",
              "1                            Spicy Tomato Rice (Recipe)   \n",
              "2     Ragi Semiya Upma Recipe - Ragi Millet Vermicel...   \n",
              "3     Gongura Chicken Curry Recipe - Andhra Style Go...   \n",
              "4     Andhra Style Alam Pachadi Recipe - Adrak Chutn...   \n",
              "...                                                 ...   \n",
              "5933                         Saffron Paneer Peda Recipe   \n",
              "5934  Italian Arancini Rice Balls Recipe With Delici...   \n",
              "5935        Quinoa Phirnee Recipe (Quinoa Milk Pudding)   \n",
              "5936      Ullikadala Pulusu Recipe | Spring Onion Curry   \n",
              "5937  Kashmiri Style Kokur Yakhni Recipe-Chicken Coo...   \n",
              "\n",
              "                                  TranslatedIngredients  TotalTimeInMins  \\\n",
              "0     1 tablespoon Red Chilli powder,3 tablespoon Gr...               45   \n",
              "1      2 teaspoon cashew - or peanuts, 1/2 Teaspoon ...               15   \n",
              "2     1 Onion - sliced,1 teaspoon White Urad Dal (Sp...               50   \n",
              "3     1/2 teaspoon Turmeric powder (Haldi),1 tablesp...               45   \n",
              "4      oil - as per use, 1 tablespoon coriander seed...               30   \n",
              "...                                                 ...              ...   \n",
              "5933  2 teaspoons Rose water,1/2 teaspoon Ghee,2 cup...               20   \n",
              "5934  4 sprig Basil leaves - finely chopped,2 cups W...              100   \n",
              "5935  3/4 cup Sugar,2 cup Milk - vegans can substitu...               35   \n",
              "5936  1 pinch Turmeric powder (Haldi),1/2 teaspoon M...               15   \n",
              "5937  Salt - as required,3 to 4 Cloves (Laung),Ghee ...               75   \n",
              "\n",
              "                   Cuisine                             TranslatedInstructions  \\\n",
              "0                   Indian  To begin making the Masala Karela Recipe,de-se...   \n",
              "1     South Indian Recipes  To make tomato puliogere, first cut the tomato...   \n",
              "2     South Indian Recipes  To begin making the Ragi Vermicelli Recipe, fi...   \n",
              "3                   Andhra  To begin making Gongura Chicken Curry Recipe f...   \n",
              "4                   Andhra  To make Andhra Style Alam Pachadi, first heat ...   \n",
              "...                    ...                                                ...   \n",
              "5933                Indian  To begin making the Saffron Paneer Peda recipe...   \n",
              "5934       Italian Recipes  To begin making the Italian Arancini Rice Ball...   \n",
              "5935                Indian  To begin making Quinoa Phirnee Recipe, place a...   \n",
              "5936                Andhra  To begin making Ullikadala Pulusu Recipe | Spr...   \n",
              "5937              Kashmiri  To begin making the Kashmiri Kokur Yakhni reci...   \n",
              "\n",
              "                                                    URL  \\\n",
              "0     https://www.archanaskitchen.com/masala-karela-...   \n",
              "1     https://www.archanaskitchen.com/spicy-tomato-r...   \n",
              "2     https://www.archanaskitchen.com/ragi-vermicell...   \n",
              "3     https://www.archanaskitchen.com/gongura-chicke...   \n",
              "4     https://www.archanaskitchen.com/andhra-style-a...   \n",
              "...                                                 ...   \n",
              "5933  https://www.archanaskitchen.com/saffron-paneer...   \n",
              "5934  https://www.archanaskitchen.com/italian-aranci...   \n",
              "5935  https://www.archanaskitchen.com/quinoa-phirnee...   \n",
              "5936  https://www.archanaskitchen.com/ullikadala-pul...   \n",
              "5937  https://www.archanaskitchen.com/kashmiri-kokur...   \n",
              "\n",
              "                                    Cleaned-Ingredients  \\\n",
              "0     salt,amchur (dry mango powder),karela (bitter ...   \n",
              "1     tomato,salt,chickpea lentils,green chilli,rice...   \n",
              "2     salt,rice vermicelli noodles (thin),asafoetida...   \n",
              "3     tomato,salt,ginger,sorrel leaves (gongura),fen...   \n",
              "4     tomato,salt,ginger,red chillies,curry,asafoeti...   \n",
              "...                                                 ...   \n",
              "5933  saffron strands generous,ghee,paneer,rose wate...   \n",
              "5934  salt,gorgonzola cheese cubes,wheat bread crumb...   \n",
              "5935  ghee,milk,saffron strands,sugar,cardamom powde...   \n",
              "5936  salt,tamarind water,mustard seeds,asafoetida (...   \n",
              "5937  black cardamom (badi elaichi),salt,mustard oil...   \n",
              "\n",
              "                                              image-url  Ingredient-count  \n",
              "0     https://www.archanaskitchen.com/images/archana...                10  \n",
              "1     https://www.archanaskitchen.com/images/archana...                12  \n",
              "2     https://www.archanaskitchen.com/images/archana...                12  \n",
              "3     https://www.archanaskitchen.com/images/archana...                15  \n",
              "4     https://www.archanaskitchen.com/images/archana...                12  \n",
              "...                                                 ...               ...  \n",
              "5933  https://www.archanaskitchen.com/images/archana...                 7  \n",
              "5934  https://www.archanaskitchen.com/images/archana...                14  \n",
              "5935  https://www.archanaskitchen.com/images/archana...                 8  \n",
              "5936  https://www.archanaskitchen.com/images/archana...                13  \n",
              "5937  https://www.archanaskitchen.com/images/archana...                13  \n",
              "\n",
              "[5938 rows x 9 columns]>"
            ]
          },
          "metadata": {},
          "execution_count": 16
        }
      ]
    },
    {
      "cell_type": "code",
      "source": [
        "df.TranslatedInstructions[0]"
      ],
      "metadata": {
        "id": "SuWanLb8u-cE",
        "colab": {
          "base_uri": "https://localhost:8080/",
          "height": 140
        },
        "outputId": "fda9f073-0c85-453c-c1b6-9c6017f239c2"
      },
      "execution_count": 17,
      "outputs": [
        {
          "output_type": "execute_result",
          "data": {
            "text/plain": [
              "'To begin making the Masala Karela Recipe,de-seed the karela and slice.\\nDo not remove the skin as the skin has all the nutrients.\\nAdd the karela to the pressure cooker with 3 tablespoon of water, salt and turmeric powder and pressure cook for three whistles.\\nRelease the pressure immediately and open the lids.\\nKeep aside.Heat oil in a heavy bottomed pan or a kadhai.\\nAdd cumin seeds and let it sizzle.Once the cumin seeds have sizzled, add onions and saute them till it turns golden brown in color.Add the karela, red chilli powder, amchur powder, coriander powder and besan.\\nStir to combine the masalas into the karela.Drizzle a little extra oil on the top and mix again.\\nCover the pan and simmer Masala Karela stirring occasionally until everything comes together well.\\nTurn off the heat.Transfer Masala Karela into a serving bowl and serve.Serve Masala Karela along with Panchmel Dal and Phulka for a weekday meal with your family.\\n'"
            ],
            "application/vnd.google.colaboratory.intrinsic+json": {
              "type": "string"
            }
          },
          "metadata": {},
          "execution_count": 17
        }
      ]
    },
    {
      "cell_type": "code",
      "source": [
        "import re\n",
        "text = 'To begin making the Masala Karela Recipe,de-seed the karela and slice.\\nDo not remove the skin as the skin has all the nutrients.\\nAdd the karela to the pressure cooker with 3 tablespoon of water, salt and turmeric powder and pressure cook for three whistles.\\nRelease the pressure immediately and open the lids.\\nKeep aside.Heat oil in a heavy bottomed pan or a kadhai.\\nAdd cumin seeds and let it sizzle.Once the cumin seeds have sizzled, add onions and saute them till it turns golden brown in color.Add the karela, red chilli powder, amchur powder, coriander powder and besan.\\nStir to combine the masalas into the karela.Drizzle a little extra oil on the top and mix again.\\nCover the pan and simmer Masala Karela stirring occasionally until everything comes together well.\\nTurn off the heat.Transfer Masala Karela into a serving bowl and serve.Serve Masala Karela along with Panchmel Dal and Phulka for a weekday meal with your family.\\n'"
      ],
      "metadata": {
        "id": "AOFRJUu7vuVi"
      },
      "execution_count": 19,
      "outputs": []
    },
    {
      "cell_type": "code",
      "source": [
        "re.sub(r\"[^\\w\\s]\", \" \", text, flags=re.MULTILINE)"
      ],
      "metadata": {
        "colab": {
          "base_uri": "https://localhost:8080/",
          "height": 140
        },
        "id": "fCd3p0I2vw1j",
        "outputId": "277d1862-6cfa-44c4-a891-7941b4be25f0"
      },
      "execution_count": 20,
      "outputs": [
        {
          "output_type": "execute_result",
          "data": {
            "text/plain": [
              "'To begin making the Masala Karela Recipe de seed the karela and slice \\nDo not remove the skin as the skin has all the nutrients \\nAdd the karela to the pressure cooker with 3 tablespoon of water  salt and turmeric powder and pressure cook for three whistles \\nRelease the pressure immediately and open the lids \\nKeep aside Heat oil in a heavy bottomed pan or a kadhai \\nAdd cumin seeds and let it sizzle Once the cumin seeds have sizzled  add onions and saute them till it turns golden brown in color Add the karela  red chilli powder  amchur powder  coriander powder and besan \\nStir to combine the masalas into the karela Drizzle a little extra oil on the top and mix again \\nCover the pan and simmer Masala Karela stirring occasionally until everything comes together well \\nTurn off the heat Transfer Masala Karela into a serving bowl and serve Serve Masala Karela along with Panchmel Dal and Phulka for a weekday meal with your family \\n'"
            ],
            "application/vnd.google.colaboratory.intrinsic+json": {
              "type": "string"
            }
          },
          "metadata": {},
          "execution_count": 20
        }
      ]
    },
    {
      "cell_type": "code",
      "source": [
        "re.sub(r'[ \\n]+', ' ', text)"
      ],
      "metadata": {
        "colab": {
          "base_uri": "https://localhost:8080/",
          "height": 140
        },
        "id": "slSrJU_Yxq6s",
        "outputId": "46e8b80b-ebe5-40ea-c63c-16c6f6aede6c"
      },
      "execution_count": 21,
      "outputs": [
        {
          "output_type": "execute_result",
          "data": {
            "text/plain": [
              "'To begin making the Masala Karela Recipe,de-seed the karela and slice. Do not remove the skin as the skin has all the nutrients. Add the karela to the pressure cooker with 3 tablespoon of water, salt and turmeric powder and pressure cook for three whistles. Release the pressure immediately and open the lids. Keep aside.Heat oil in a heavy bottomed pan or a kadhai. Add cumin seeds and let it sizzle.Once the cumin seeds have sizzled, add onions and saute them till it turns golden brown in color.Add the karela, red chilli powder, amchur powder, coriander powder and besan. Stir to combine the masalas into the karela.Drizzle a little extra oil on the top and mix again. Cover the pan and simmer Masala Karela stirring occasionally until everything comes together well. Turn off the heat.Transfer Masala Karela into a serving bowl and serve.Serve Masala Karela along with Panchmel Dal and Phulka for a weekday meal with your family. '"
            ],
            "application/vnd.google.colaboratory.intrinsic+json": {
              "type": "string"
            }
          },
          "metadata": {},
          "execution_count": 21
        }
      ]
    },
    {
      "cell_type": "code",
      "source": [
        "def processing(text):\n",
        "    text = re.sub(r'[^\\w\\s\\']',' ', text)\n",
        "    text = re.sub(r'[ \\n]+', ' ', text)\n",
        "    return text.strip().lower() "
      ],
      "metadata": {
        "id": "cTStIPR-yASZ"
      },
      "execution_count": 22,
      "outputs": []
    },
    {
      "cell_type": "code",
      "source": [
        "df.TranslatedInstructions = df.TranslatedInstructions.map(processing)"
      ],
      "metadata": {
        "id": "gCQlvcMoyLC2"
      },
      "execution_count": 24,
      "outputs": []
    },
    {
      "cell_type": "code",
      "source": [
        "df"
      ],
      "metadata": {
        "colab": {
          "base_uri": "https://localhost:8080/",
          "height": 852
        },
        "id": "85Ke8ybryQUr",
        "outputId": "81da6329-e682-4bcd-8e4e-79b51e9e935a"
      },
      "execution_count": 25,
      "outputs": [
        {
          "output_type": "execute_result",
          "data": {
            "text/plain": [
              "                                   TranslatedRecipeName  \\\n",
              "0                                  Masala Karela Recipe   \n",
              "1                            Spicy Tomato Rice (Recipe)   \n",
              "2     Ragi Semiya Upma Recipe - Ragi Millet Vermicel...   \n",
              "3     Gongura Chicken Curry Recipe - Andhra Style Go...   \n",
              "4     Andhra Style Alam Pachadi Recipe - Adrak Chutn...   \n",
              "...                                                 ...   \n",
              "5933                         Saffron Paneer Peda Recipe   \n",
              "5934  Italian Arancini Rice Balls Recipe With Delici...   \n",
              "5935        Quinoa Phirnee Recipe (Quinoa Milk Pudding)   \n",
              "5936      Ullikadala Pulusu Recipe | Spring Onion Curry   \n",
              "5937  Kashmiri Style Kokur Yakhni Recipe-Chicken Coo...   \n",
              "\n",
              "                                  TranslatedIngredients  TotalTimeInMins  \\\n",
              "0     1 tablespoon Red Chilli powder,3 tablespoon Gr...               45   \n",
              "1      2 teaspoon cashew - or peanuts, 1/2 Teaspoon ...               15   \n",
              "2     1 Onion - sliced,1 teaspoon White Urad Dal (Sp...               50   \n",
              "3     1/2 teaspoon Turmeric powder (Haldi),1 tablesp...               45   \n",
              "4      oil - as per use, 1 tablespoon coriander seed...               30   \n",
              "...                                                 ...              ...   \n",
              "5933  2 teaspoons Rose water,1/2 teaspoon Ghee,2 cup...               20   \n",
              "5934  4 sprig Basil leaves - finely chopped,2 cups W...              100   \n",
              "5935  3/4 cup Sugar,2 cup Milk - vegans can substitu...               35   \n",
              "5936  1 pinch Turmeric powder (Haldi),1/2 teaspoon M...               15   \n",
              "5937  Salt - as required,3 to 4 Cloves (Laung),Ghee ...               75   \n",
              "\n",
              "                   Cuisine                             TranslatedInstructions  \\\n",
              "0                   Indian  to begin making the masala karela recipe de se...   \n",
              "1     South Indian Recipes  to make tomato puliogere first cut the tomatoe...   \n",
              "2     South Indian Recipes  to begin making the ragi vermicelli recipe fir...   \n",
              "3                   Andhra  to begin making gongura chicken curry recipe f...   \n",
              "4                   Andhra  to make andhra style alam pachadi first heat o...   \n",
              "...                    ...                                                ...   \n",
              "5933                Indian  to begin making the saffron paneer peda recipe...   \n",
              "5934       Italian Recipes  to begin making the italian arancini rice ball...   \n",
              "5935                Indian  to begin making quinoa phirnee recipe place a ...   \n",
              "5936                Andhra  to begin making ullikadala pulusu recipe sprin...   \n",
              "5937              Kashmiri  to begin making the kashmiri kokur yakhni reci...   \n",
              "\n",
              "                                                    URL  \\\n",
              "0     https://www.archanaskitchen.com/masala-karela-...   \n",
              "1     https://www.archanaskitchen.com/spicy-tomato-r...   \n",
              "2     https://www.archanaskitchen.com/ragi-vermicell...   \n",
              "3     https://www.archanaskitchen.com/gongura-chicke...   \n",
              "4     https://www.archanaskitchen.com/andhra-style-a...   \n",
              "...                                                 ...   \n",
              "5933  https://www.archanaskitchen.com/saffron-paneer...   \n",
              "5934  https://www.archanaskitchen.com/italian-aranci...   \n",
              "5935  https://www.archanaskitchen.com/quinoa-phirnee...   \n",
              "5936  https://www.archanaskitchen.com/ullikadala-pul...   \n",
              "5937  https://www.archanaskitchen.com/kashmiri-kokur...   \n",
              "\n",
              "                                    Cleaned-Ingredients  \\\n",
              "0     salt,amchur (dry mango powder),karela (bitter ...   \n",
              "1     tomato,salt,chickpea lentils,green chilli,rice...   \n",
              "2     salt,rice vermicelli noodles (thin),asafoetida...   \n",
              "3     tomato,salt,ginger,sorrel leaves (gongura),fen...   \n",
              "4     tomato,salt,ginger,red chillies,curry,asafoeti...   \n",
              "...                                                 ...   \n",
              "5933  saffron strands generous,ghee,paneer,rose wate...   \n",
              "5934  salt,gorgonzola cheese cubes,wheat bread crumb...   \n",
              "5935  ghee,milk,saffron strands,sugar,cardamom powde...   \n",
              "5936  salt,tamarind water,mustard seeds,asafoetida (...   \n",
              "5937  black cardamom (badi elaichi),salt,mustard oil...   \n",
              "\n",
              "                                              image-url  Ingredient-count  \n",
              "0     https://www.archanaskitchen.com/images/archana...                10  \n",
              "1     https://www.archanaskitchen.com/images/archana...                12  \n",
              "2     https://www.archanaskitchen.com/images/archana...                12  \n",
              "3     https://www.archanaskitchen.com/images/archana...                15  \n",
              "4     https://www.archanaskitchen.com/images/archana...                12  \n",
              "...                                                 ...               ...  \n",
              "5933  https://www.archanaskitchen.com/images/archana...                 7  \n",
              "5934  https://www.archanaskitchen.com/images/archana...                14  \n",
              "5935  https://www.archanaskitchen.com/images/archana...                 8  \n",
              "5936  https://www.archanaskitchen.com/images/archana...                13  \n",
              "5937  https://www.archanaskitchen.com/images/archana...                13  \n",
              "\n",
              "[5938 rows x 9 columns]"
            ],
            "text/html": [
              "\n",
              "  <div id=\"df-8a329525-6061-452a-b7db-0815f0e837b7\">\n",
              "    <div class=\"colab-df-container\">\n",
              "      <div>\n",
              "<style scoped>\n",
              "    .dataframe tbody tr th:only-of-type {\n",
              "        vertical-align: middle;\n",
              "    }\n",
              "\n",
              "    .dataframe tbody tr th {\n",
              "        vertical-align: top;\n",
              "    }\n",
              "\n",
              "    .dataframe thead th {\n",
              "        text-align: right;\n",
              "    }\n",
              "</style>\n",
              "<table border=\"1\" class=\"dataframe\">\n",
              "  <thead>\n",
              "    <tr style=\"text-align: right;\">\n",
              "      <th></th>\n",
              "      <th>TranslatedRecipeName</th>\n",
              "      <th>TranslatedIngredients</th>\n",
              "      <th>TotalTimeInMins</th>\n",
              "      <th>Cuisine</th>\n",
              "      <th>TranslatedInstructions</th>\n",
              "      <th>URL</th>\n",
              "      <th>Cleaned-Ingredients</th>\n",
              "      <th>image-url</th>\n",
              "      <th>Ingredient-count</th>\n",
              "    </tr>\n",
              "  </thead>\n",
              "  <tbody>\n",
              "    <tr>\n",
              "      <th>0</th>\n",
              "      <td>Masala Karela Recipe</td>\n",
              "      <td>1 tablespoon Red Chilli powder,3 tablespoon Gr...</td>\n",
              "      <td>45</td>\n",
              "      <td>Indian</td>\n",
              "      <td>to begin making the masala karela recipe de se...</td>\n",
              "      <td>https://www.archanaskitchen.com/masala-karela-...</td>\n",
              "      <td>salt,amchur (dry mango powder),karela (bitter ...</td>\n",
              "      <td>https://www.archanaskitchen.com/images/archana...</td>\n",
              "      <td>10</td>\n",
              "    </tr>\n",
              "    <tr>\n",
              "      <th>1</th>\n",
              "      <td>Spicy Tomato Rice (Recipe)</td>\n",
              "      <td>2 teaspoon cashew - or peanuts, 1/2 Teaspoon ...</td>\n",
              "      <td>15</td>\n",
              "      <td>South Indian Recipes</td>\n",
              "      <td>to make tomato puliogere first cut the tomatoe...</td>\n",
              "      <td>https://www.archanaskitchen.com/spicy-tomato-r...</td>\n",
              "      <td>tomato,salt,chickpea lentils,green chilli,rice...</td>\n",
              "      <td>https://www.archanaskitchen.com/images/archana...</td>\n",
              "      <td>12</td>\n",
              "    </tr>\n",
              "    <tr>\n",
              "      <th>2</th>\n",
              "      <td>Ragi Semiya Upma Recipe - Ragi Millet Vermicel...</td>\n",
              "      <td>1 Onion - sliced,1 teaspoon White Urad Dal (Sp...</td>\n",
              "      <td>50</td>\n",
              "      <td>South Indian Recipes</td>\n",
              "      <td>to begin making the ragi vermicelli recipe fir...</td>\n",
              "      <td>https://www.archanaskitchen.com/ragi-vermicell...</td>\n",
              "      <td>salt,rice vermicelli noodles (thin),asafoetida...</td>\n",
              "      <td>https://www.archanaskitchen.com/images/archana...</td>\n",
              "      <td>12</td>\n",
              "    </tr>\n",
              "    <tr>\n",
              "      <th>3</th>\n",
              "      <td>Gongura Chicken Curry Recipe - Andhra Style Go...</td>\n",
              "      <td>1/2 teaspoon Turmeric powder (Haldi),1 tablesp...</td>\n",
              "      <td>45</td>\n",
              "      <td>Andhra</td>\n",
              "      <td>to begin making gongura chicken curry recipe f...</td>\n",
              "      <td>https://www.archanaskitchen.com/gongura-chicke...</td>\n",
              "      <td>tomato,salt,ginger,sorrel leaves (gongura),fen...</td>\n",
              "      <td>https://www.archanaskitchen.com/images/archana...</td>\n",
              "      <td>15</td>\n",
              "    </tr>\n",
              "    <tr>\n",
              "      <th>4</th>\n",
              "      <td>Andhra Style Alam Pachadi Recipe - Adrak Chutn...</td>\n",
              "      <td>oil - as per use, 1 tablespoon coriander seed...</td>\n",
              "      <td>30</td>\n",
              "      <td>Andhra</td>\n",
              "      <td>to make andhra style alam pachadi first heat o...</td>\n",
              "      <td>https://www.archanaskitchen.com/andhra-style-a...</td>\n",
              "      <td>tomato,salt,ginger,red chillies,curry,asafoeti...</td>\n",
              "      <td>https://www.archanaskitchen.com/images/archana...</td>\n",
              "      <td>12</td>\n",
              "    </tr>\n",
              "    <tr>\n",
              "      <th>...</th>\n",
              "      <td>...</td>\n",
              "      <td>...</td>\n",
              "      <td>...</td>\n",
              "      <td>...</td>\n",
              "      <td>...</td>\n",
              "      <td>...</td>\n",
              "      <td>...</td>\n",
              "      <td>...</td>\n",
              "      <td>...</td>\n",
              "    </tr>\n",
              "    <tr>\n",
              "      <th>5933</th>\n",
              "      <td>Saffron Paneer Peda Recipe</td>\n",
              "      <td>2 teaspoons Rose water,1/2 teaspoon Ghee,2 cup...</td>\n",
              "      <td>20</td>\n",
              "      <td>Indian</td>\n",
              "      <td>to begin making the saffron paneer peda recipe...</td>\n",
              "      <td>https://www.archanaskitchen.com/saffron-paneer...</td>\n",
              "      <td>saffron strands generous,ghee,paneer,rose wate...</td>\n",
              "      <td>https://www.archanaskitchen.com/images/archana...</td>\n",
              "      <td>7</td>\n",
              "    </tr>\n",
              "    <tr>\n",
              "      <th>5934</th>\n",
              "      <td>Italian Arancini Rice Balls Recipe With Delici...</td>\n",
              "      <td>4 sprig Basil leaves - finely chopped,2 cups W...</td>\n",
              "      <td>100</td>\n",
              "      <td>Italian Recipes</td>\n",
              "      <td>to begin making the italian arancini rice ball...</td>\n",
              "      <td>https://www.archanaskitchen.com/italian-aranci...</td>\n",
              "      <td>salt,gorgonzola cheese cubes,wheat bread crumb...</td>\n",
              "      <td>https://www.archanaskitchen.com/images/archana...</td>\n",
              "      <td>14</td>\n",
              "    </tr>\n",
              "    <tr>\n",
              "      <th>5935</th>\n",
              "      <td>Quinoa Phirnee Recipe (Quinoa Milk Pudding)</td>\n",
              "      <td>3/4 cup Sugar,2 cup Milk - vegans can substitu...</td>\n",
              "      <td>35</td>\n",
              "      <td>Indian</td>\n",
              "      <td>to begin making quinoa phirnee recipe place a ...</td>\n",
              "      <td>https://www.archanaskitchen.com/quinoa-phirnee...</td>\n",
              "      <td>ghee,milk,saffron strands,sugar,cardamom powde...</td>\n",
              "      <td>https://www.archanaskitchen.com/images/archana...</td>\n",
              "      <td>8</td>\n",
              "    </tr>\n",
              "    <tr>\n",
              "      <th>5936</th>\n",
              "      <td>Ullikadala Pulusu Recipe | Spring Onion Curry</td>\n",
              "      <td>1 pinch Turmeric powder (Haldi),1/2 teaspoon M...</td>\n",
              "      <td>15</td>\n",
              "      <td>Andhra</td>\n",
              "      <td>to begin making ullikadala pulusu recipe sprin...</td>\n",
              "      <td>https://www.archanaskitchen.com/ullikadala-pul...</td>\n",
              "      <td>salt,tamarind water,mustard seeds,asafoetida (...</td>\n",
              "      <td>https://www.archanaskitchen.com/images/archana...</td>\n",
              "      <td>13</td>\n",
              "    </tr>\n",
              "    <tr>\n",
              "      <th>5937</th>\n",
              "      <td>Kashmiri Style Kokur Yakhni Recipe-Chicken Coo...</td>\n",
              "      <td>Salt - as required,3 to 4 Cloves (Laung),Ghee ...</td>\n",
              "      <td>75</td>\n",
              "      <td>Kashmiri</td>\n",
              "      <td>to begin making the kashmiri kokur yakhni reci...</td>\n",
              "      <td>https://www.archanaskitchen.com/kashmiri-kokur...</td>\n",
              "      <td>black cardamom (badi elaichi),salt,mustard oil...</td>\n",
              "      <td>https://www.archanaskitchen.com/images/archana...</td>\n",
              "      <td>13</td>\n",
              "    </tr>\n",
              "  </tbody>\n",
              "</table>\n",
              "<p>5938 rows × 9 columns</p>\n",
              "</div>\n",
              "      <button class=\"colab-df-convert\" onclick=\"convertToInteractive('df-8a329525-6061-452a-b7db-0815f0e837b7')\"\n",
              "              title=\"Convert this dataframe to an interactive table.\"\n",
              "              style=\"display:none;\">\n",
              "        \n",
              "  <svg xmlns=\"http://www.w3.org/2000/svg\" height=\"24px\"viewBox=\"0 0 24 24\"\n",
              "       width=\"24px\">\n",
              "    <path d=\"M0 0h24v24H0V0z\" fill=\"none\"/>\n",
              "    <path d=\"M18.56 5.44l.94 2.06.94-2.06 2.06-.94-2.06-.94-.94-2.06-.94 2.06-2.06.94zm-11 1L8.5 8.5l.94-2.06 2.06-.94-2.06-.94L8.5 2.5l-.94 2.06-2.06.94zm10 10l.94 2.06.94-2.06 2.06-.94-2.06-.94-.94-2.06-.94 2.06-2.06.94z\"/><path d=\"M17.41 7.96l-1.37-1.37c-.4-.4-.92-.59-1.43-.59-.52 0-1.04.2-1.43.59L10.3 9.45l-7.72 7.72c-.78.78-.78 2.05 0 2.83L4 21.41c.39.39.9.59 1.41.59.51 0 1.02-.2 1.41-.59l7.78-7.78 2.81-2.81c.8-.78.8-2.07 0-2.86zM5.41 20L4 18.59l7.72-7.72 1.47 1.35L5.41 20z\"/>\n",
              "  </svg>\n",
              "      </button>\n",
              "      \n",
              "  <style>\n",
              "    .colab-df-container {\n",
              "      display:flex;\n",
              "      flex-wrap:wrap;\n",
              "      gap: 12px;\n",
              "    }\n",
              "\n",
              "    .colab-df-convert {\n",
              "      background-color: #E8F0FE;\n",
              "      border: none;\n",
              "      border-radius: 50%;\n",
              "      cursor: pointer;\n",
              "      display: none;\n",
              "      fill: #1967D2;\n",
              "      height: 32px;\n",
              "      padding: 0 0 0 0;\n",
              "      width: 32px;\n",
              "    }\n",
              "\n",
              "    .colab-df-convert:hover {\n",
              "      background-color: #E2EBFA;\n",
              "      box-shadow: 0px 1px 2px rgba(60, 64, 67, 0.3), 0px 1px 3px 1px rgba(60, 64, 67, 0.15);\n",
              "      fill: #174EA6;\n",
              "    }\n",
              "\n",
              "    [theme=dark] .colab-df-convert {\n",
              "      background-color: #3B4455;\n",
              "      fill: #D2E3FC;\n",
              "    }\n",
              "\n",
              "    [theme=dark] .colab-df-convert:hover {\n",
              "      background-color: #434B5C;\n",
              "      box-shadow: 0px 1px 3px 1px rgba(0, 0, 0, 0.15);\n",
              "      filter: drop-shadow(0px 1px 2px rgba(0, 0, 0, 0.3));\n",
              "      fill: #FFFFFF;\n",
              "    }\n",
              "  </style>\n",
              "\n",
              "      <script>\n",
              "        const buttonEl =\n",
              "          document.querySelector('#df-8a329525-6061-452a-b7db-0815f0e837b7 button.colab-df-convert');\n",
              "        buttonEl.style.display =\n",
              "          google.colab.kernel.accessAllowed ? 'block' : 'none';\n",
              "\n",
              "        async function convertToInteractive(key) {\n",
              "          const element = document.querySelector('#df-8a329525-6061-452a-b7db-0815f0e837b7');\n",
              "          const dataTable =\n",
              "            await google.colab.kernel.invokeFunction('convertToInteractive',\n",
              "                                                     [key], {});\n",
              "          if (!dataTable) return;\n",
              "\n",
              "          const docLinkHtml = 'Like what you see? Visit the ' +\n",
              "            '<a target=\"_blank\" href=https://colab.research.google.com/notebooks/data_table.ipynb>data table notebook</a>'\n",
              "            + ' to learn more about interactive tables.';\n",
              "          element.innerHTML = '';\n",
              "          dataTable['output_type'] = 'display_data';\n",
              "          await google.colab.output.renderOutput(dataTable, element);\n",
              "          const docLink = document.createElement('div');\n",
              "          docLink.innerHTML = docLinkHtml;\n",
              "          element.appendChild(docLink);\n",
              "        }\n",
              "      </script>\n",
              "    </div>\n",
              "  </div>\n",
              "  "
            ]
          },
          "metadata": {},
          "execution_count": 25
        }
      ]
    },
    {
      "cell_type": "code",
      "source": [
        "df.to_csv('food.txt',columns=[\"TranslatedInstructions\"], header=None, index=False)"
      ],
      "metadata": {
        "id": "GJ_FhN3VyVtK"
      },
      "execution_count": 26,
      "outputs": []
    },
    {
      "cell_type": "code",
      "source": [
        "!pip install fasttext\n",
        "import fasttext"
      ],
      "metadata": {
        "colab": {
          "base_uri": "https://localhost:8080/"
        },
        "id": "N1MXLhscyvRT",
        "outputId": "dc696467-5c61-4db6-e8ef-592f962b5ee5"
      },
      "execution_count": 30,
      "outputs": [
        {
          "output_type": "stream",
          "name": "stdout",
          "text": [
            "Looking in indexes: https://pypi.org/simple, https://us-python.pkg.dev/colab-wheels/public/simple/\n",
            "Collecting fasttext\n",
            "  Downloading fasttext-0.9.2.tar.gz (68 kB)\n",
            "\u001b[?25l     \u001b[90m━━━━━━━━━━━━━━━━━━━━━━━━━━━━━━━━━━━━━━━━\u001b[0m \u001b[32m0.0/68.8 KB\u001b[0m \u001b[31m?\u001b[0m eta \u001b[36m-:--:--\u001b[0m\r\u001b[2K     \u001b[90m━━━━━━━━━━━━━━━━━━━━━━━━━━━━━━━━━━━━━━━━\u001b[0m \u001b[32m68.8/68.8 KB\u001b[0m \u001b[31m3.0 MB/s\u001b[0m eta \u001b[36m0:00:00\u001b[0m\n",
            "\u001b[?25h  Preparing metadata (setup.py) ... \u001b[?25l\u001b[?25hdone\n",
            "Collecting pybind11>=2.2\n",
            "  Using cached pybind11-2.10.3-py3-none-any.whl (222 kB)\n",
            "Requirement already satisfied: setuptools>=0.7.0 in /usr/local/lib/python3.8/dist-packages (from fasttext) (57.4.0)\n",
            "Requirement already satisfied: numpy in /usr/local/lib/python3.8/dist-packages (from fasttext) (1.21.6)\n",
            "Building wheels for collected packages: fasttext\n",
            "  Building wheel for fasttext (setup.py) ... \u001b[?25l\u001b[?25hdone\n",
            "  Created wheel for fasttext: filename=fasttext-0.9.2-cp38-cp38-linux_x86_64.whl size=4397671 sha256=0b023e33785bde2b241fd5df7cc92cf99fa5d04b1e7c3514c548122e2f7f219a\n",
            "  Stored in directory: /root/.cache/pip/wheels/93/61/2a/c54711a91c418ba06ba195b1d78ff24fcaad8592f2a694ac94\n",
            "Successfully built fasttext\n",
            "Installing collected packages: pybind11, fasttext\n",
            "Successfully installed fasttext-0.9.2 pybind11-2.10.3\n"
          ]
        }
      ]
    },
    {
      "cell_type": "code",
      "source": [
        "model = fasttext.train_unsupervised('food.txt')"
      ],
      "metadata": {
        "id": "FKSm73xnzpCO"
      },
      "execution_count": 34,
      "outputs": []
    },
    {
      "cell_type": "code",
      "source": [
        "model.get_nearest_neighbors('Masala Karela')"
      ],
      "metadata": {
        "colab": {
          "base_uri": "https://localhost:8080/"
        },
        "id": "8-vN6K6I0vJG",
        "outputId": "94d08f02-a1e3-4dd9-872f-b18f667cd1bd"
      },
      "execution_count": 35,
      "outputs": [
        {
          "output_type": "execute_result",
          "data": {
            "text/plain": [
              "[(0.8702376484870911, 'vagharela'),\n",
              " (0.8625509738922119, 'karela'),\n",
              " (0.8033213019371033, 'kela'),\n",
              " (0.7873584628105164, 'bharta'),\n",
              " (0.7771700024604797, 'bharwa'),\n",
              " (0.771754264831543, 'karelas'),\n",
              " (0.7659577131271362, 'bhuga'),\n",
              " (0.7573161721229553, 'shimla'),\n",
              " (0.7543668746948242, 'bharit'),\n",
              " (0.7491017580032349, 'aur')]"
            ]
          },
          "metadata": {},
          "execution_count": 35
        }
      ]
    },
    {
      "cell_type": "code",
      "source": [
        "model.get_nearest_neighbors(\"halwa\")"
      ],
      "metadata": {
        "colab": {
          "base_uri": "https://localhost:8080/"
        },
        "id": "EnyNcPIH2XsY",
        "outputId": "169ebe9d-16bd-4db9-d36c-ec16e13b26e6"
      },
      "execution_count": 36,
      "outputs": [
        {
          "output_type": "execute_result",
          "data": {
            "text/plain": [
              "[(0.7467402815818787, 'khoya'),\n",
              " (0.7186369299888611, 'burfi'),\n",
              " (0.7104381322860718, 'rabri'),\n",
              " (0.6857462525367737, 'mawa'),\n",
              " (0.6752265095710754, 'badam'),\n",
              " (0.672613799571991, 'sheera'),\n",
              " (0.6673717498779297, 'kheer'),\n",
              " (0.6628114581108093, 'mohan'),\n",
              " (0.6588674187660217, 'basundi'),\n",
              " (0.6500763297080994, 'doodh')]"
            ]
          },
          "metadata": {},
          "execution_count": 36
        }
      ]
    },
    {
      "cell_type": "code",
      "source": [
        "model.get_analogies('halwa','rabri','Masala Karela')"
      ],
      "metadata": {
        "colab": {
          "base_uri": "https://localhost:8080/"
        },
        "id": "AcFZS_5w1iFv",
        "outputId": "53afb362-f3a5-4965-f4b2-dc61dbc6b2f6"
      },
      "execution_count": 38,
      "outputs": [
        {
          "output_type": "execute_result",
          "data": {
            "text/plain": [
              "[(0.7676018476486206, 'karela'),\n",
              " (0.7122732996940613, 'karelas'),\n",
              " (0.7005058526992798, 'bharwa'),\n",
              " (0.6880419254302979, 'vagharela'),\n",
              " (0.6408901214599609, 'bharta'),\n",
              " (0.6392216682434082, 'okras'),\n",
              " (0.6306081414222717, 'kela'),\n",
              " (0.6257186532020569, 'patiala'),\n",
              " (0.6243281960487366, 'ji'),\n",
              " (0.6116305589675903, 'moongphali')]"
            ]
          },
          "metadata": {},
          "execution_count": 38
        }
      ]
    },
    {
      "cell_type": "code",
      "source": [],
      "metadata": {
        "id": "LZdY8XNN2l0k"
      },
      "execution_count": null,
      "outputs": []
    }
  ],
  "metadata": {
    "colab": {
      "provenance": []
    },
    "kernelspec": {
      "display_name": "Python 3",
      "name": "python3"
    },
    "language_info": {
      "name": "python"
    }
  },
  "nbformat": 4,
  "nbformat_minor": 0
}